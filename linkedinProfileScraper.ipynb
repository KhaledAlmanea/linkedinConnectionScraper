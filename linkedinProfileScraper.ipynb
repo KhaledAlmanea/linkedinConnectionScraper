{
 "cells": [
  {
   "cell_type": "markdown",
   "metadata": {},
   "source": [
    "# LinkedIn Connections Scraper:"
   ]
  },
  {
   "cell_type": "code",
   "execution_count": 49,
   "metadata": {},
   "outputs": [],
   "source": [
    "# Import all needed libraries\n",
    "import csv\n",
    "from getpass import getpass\n",
    "from time import sleep\n",
    "from selenium.webdriver.common.keys import Keys\n",
    "from selenium.common.exceptions import NoSuchElementException \n",
    "from msedge.selenium_tools import Edge, EdgeOptions\n",
    "\n",
    "def get_connection_data(card):\n",
    "    \"\"\"Extract data from from connection card\"\"\"\n",
    "    membersName = card.find_element_by_xpath('.//span[2]').text\n",
    "    membersOccupation = card.find_element_by_xpath('.//span[4]').text\n",
    "    \n",
    "    data = (membersName, membersOccupation)\n",
    "    return data"
   ]
  },
  {
   "cell_type": "code",
   "execution_count": 50,
   "metadata": {},
   "outputs": [
    {
     "name": "stdout",
     "output_type": "stream",
     "text": [
      "username: kh-mon-d@live.com\n",
      "Password: ········\n"
     ]
    }
   ],
   "source": [
    "# application variables\n",
    "userId = input('username: ')\n",
    "my_password = getpass('Password: ')\n",
    "\n",
    "# create instance of web driver\n",
    "options= EdgeOptions()\n",
    "options.use_chromium =True\n",
    "driver = Edge(options=options)\n",
    "\n",
    "# navigate to the login screen\n",
    "driver.get('https://www.linkedin.com/login')\n",
    "driver.maximize_window()\n",
    "\n",
    "username = driver.find_element_by_xpath('//input[@name=\"session_key\"]')\n",
    "username.send_keys(userId)\n",
    "\n",
    "password = driver.find_element_by_xpath('//input[@name=\"session_password\"]')\n",
    "password.send_keys(my_password)\n",
    "password.send_keys(Keys.RETURN)\n",
    "sleep(3)\n",
    "\n",
    "# navigate to my network \n",
    "driver.find_element_by_link_text(\"My Network\").click()\n",
    "sleep(3)\n",
    "# navigate to connections\n",
    "driver.find_element_by_class_name(\"mn-community-summary__entity-info\").click()\n",
    "sleep(3)"
   ]
  },
  {
   "cell_type": "code",
   "execution_count": 51,
   "metadata": {},
   "outputs": [],
   "source": [
    "# get all connections on the page\n",
    "data = []\n",
    "last_position = driver.execute_script(\"return window.pageYOFFset;\")\n",
    "scrolling = True\n",
    "\n",
    "while scrolling: \n",
    "    page_cards = driver.find_elements_by_class_name(\"mn-connection-card__details\")\n",
    "    for card in page_cards[-15:]:\n",
    "        details = get_connection_data(card)\n",
    "        data.append(details)\n",
    "        \n",
    "    scroll_attempt = 0\n",
    "    while True:\n",
    "        # check scroll postion\n",
    "        driver.execute_script('window.scrollTo(0, document.body.scrollHeight);')\n",
    "        sleep(2)\n",
    "        curr_position = driver.execute_script(\"return window.pageYOFFset;\")\n",
    "        \n",
    "        if last_position == curr_position:\n",
    "            scroll_attempt += 1\n",
    "            \n",
    "            # end of scroll region\n",
    "            if scroll_attempt >= 3:\n",
    "                scrolling = False\n",
    "                break\n",
    "            else:\n",
    "                sleep(2) # attempt another scroll\n",
    "        else:\n",
    "            last_position = curr_position\n",
    "            break\n",
    "            \n",
    "# close the web driver\n",
    "driver.close()"
   ]
  },
  {
   "cell_type": "markdown",
   "metadata": {},
   "source": [
    "# Saving the Connection Data"
   ]
  },
  {
   "cell_type": "code",
   "execution_count": 52,
   "metadata": {},
   "outputs": [],
   "source": [
    "with open('linkedin_connections_data.csv', mode='w', encoding='utf-8-sig', newline='\\n') as csv_file:\n",
    "    tableHead = ['ConnectionName', 'ConnectionOccupation']\n",
    "    writer = csv.writer(csv_file)\n",
    "    writer.writerow(tableHead)\n",
    "    writer.writerows(data)"
   ]
  }
 ],
 "metadata": {
  "kernelspec": {
   "display_name": "Python 3",
   "language": "python",
   "name": "python3"
  },
  "language_info": {
   "codemirror_mode": {
    "name": "ipython",
    "version": 3
   },
   "file_extension": ".py",
   "mimetype": "text/x-python",
   "name": "python",
   "nbconvert_exporter": "python",
   "pygments_lexer": "ipython3",
   "version": "3.8.5"
  }
 },
 "nbformat": 4,
 "nbformat_minor": 4
}
